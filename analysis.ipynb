{
 "cells": [
  {
   "cell_type": "markdown",
   "id": "87f38df7",
   "metadata": {},
   "source": [
    "Shreyansh Misra"
   ]
  },
  {
   "cell_type": "markdown",
   "id": "2fa46578",
   "metadata": {},
   "source": [
    "# I. Creating the Dataset"
   ]
  },
  {
   "cell_type": "markdown",
   "id": "008908ed",
   "metadata": {},
   "source": [
    "###### Importing Dependencies"
   ]
  },
  {
   "cell_type": "code",
   "execution_count": 1,
   "id": "221303a2",
   "metadata": {},
   "outputs": [],
   "source": [
    "import pandas as pd\n",
    "from matplotlib import pyplot as plt"
   ]
  },
  {
   "cell_type": "markdown",
   "id": "9eaa754a",
   "metadata": {},
   "source": [
    "###### Dataset of Wordle Possible Words"
   ]
  },
  {
   "cell_type": "markdown",
   "id": "96989cdc",
   "metadata": {},
   "source": [
    "This is wordle's dataset of accepted words. "
   ]
  },
  {
   "cell_type": "code",
   "execution_count": 2,
   "id": "20349432",
   "metadata": {},
   "outputs": [
    {
     "name": "stdout",
     "output_type": "stream",
     "text": [
      "12972 ['aahed', 'aalii', 'aargh', 'aarti', 'abaca', 'abaci', 'aback', 'abacs', 'abaft', 'abaka', 'abamp', 'aband']\n"
     ]
    }
   ],
   "source": [
    "words = []\n",
    "with open('list.txt') as f:\n",
    "    for line in f:\n",
    "        words.append(line.strip())\n",
    "\n",
    "total = len(words)\n",
    "print(total, words[0:12])"
   ]
  },
  {
   "cell_type": "markdown",
   "id": "251719d3",
   "metadata": {},
   "source": [
    "###### Creating a single string"
   ]
  },
  {
   "cell_type": "markdown",
   "id": "f7fb2941",
   "metadata": {},
   "source": [
    "Why this helps?"
   ]
  },
  {
   "cell_type": "code",
   "execution_count": 3,
   "id": "745b92b7",
   "metadata": {},
   "outputs": [
    {
     "data": {
      "text/plain": [
       "(64860, 'aahedaaliiaarghaartiabacaabaciabackabacsabaftabakaabampaband')"
      ]
     },
     "execution_count": 3,
     "metadata": {},
     "output_type": "execute_result"
    }
   ],
   "source": [
    "OneString = ''.join([str(word) for word in words])\n",
    "len(OneString), OneString[0:60]"
   ]
  },
  {
   "cell_type": "markdown",
   "id": "34a56bf2",
   "metadata": {},
   "source": [
    "# II. Strategies"
   ]
  },
  {
   "cell_type": "markdown",
   "id": "6b15bc50",
   "metadata": {},
   "source": [
    "AES are most popular. I expected the other vowels to be higher up. "
   ]
  },
  {
   "cell_type": "markdown",
   "id": "acd1beac",
   "metadata": {},
   "source": [
    "###### Vowel Frequency Strategy"
   ]
  },
  {
   "cell_type": "code",
   "execution_count": 6,
   "id": "4ea4ecb2",
   "metadata": {},
   "outputs": [
    {
     "data": {
      "text/html": [
       "<div>\n",
       "<style scoped>\n",
       "    .dataframe tbody tr th:only-of-type {\n",
       "        vertical-align: middle;\n",
       "    }\n",
       "\n",
       "    .dataframe tbody tr th {\n",
       "        vertical-align: top;\n",
       "    }\n",
       "\n",
       "    .dataframe thead th {\n",
       "        text-align: right;\n",
       "    }\n",
       "</style>\n",
       "<table border=\"1\" class=\"dataframe\">\n",
       "  <thead>\n",
       "    <tr style=\"text-align: right;\">\n",
       "      <th></th>\n",
       "      <th>Vowel</th>\n",
       "      <th>Frequency</th>\n",
       "    </tr>\n",
       "  </thead>\n",
       "  <tbody>\n",
       "    <tr>\n",
       "      <th>1</th>\n",
       "      <td>e</td>\n",
       "      <td>6662</td>\n",
       "    </tr>\n",
       "    <tr>\n",
       "      <th>0</th>\n",
       "      <td>a</td>\n",
       "      <td>5990</td>\n",
       "    </tr>\n",
       "    <tr>\n",
       "      <th>3</th>\n",
       "      <td>o</td>\n",
       "      <td>4438</td>\n",
       "    </tr>\n",
       "    <tr>\n",
       "      <th>2</th>\n",
       "      <td>i</td>\n",
       "      <td>3759</td>\n",
       "    </tr>\n",
       "    <tr>\n",
       "      <th>4</th>\n",
       "      <td>u</td>\n",
       "      <td>2511</td>\n",
       "    </tr>\n",
       "  </tbody>\n",
       "</table>\n",
       "</div>"
      ],
      "text/plain": [
       "  Vowel  Frequency\n",
       "1     e       6662\n",
       "0     a       5990\n",
       "3     o       4438\n",
       "2     i       3759\n",
       "4     u       2511"
      ]
     },
     "execution_count": 6,
     "metadata": {},
     "output_type": "execute_result"
    }
   ],
   "source": [
    "vowels = ['a', 'e', 'i', 'o', 'u']\n",
    "freqVowels = [OneString.count(vowels[i]) for i in range(len(vowels))]\n",
    "\n",
    "dictVowel = {'Vowel': vowels, 'Frequency': freqVowels}  \n",
    "dfVowel = pd.DataFrame(dictVowel) \n",
    "dfVowel = dfVowel.sort_values(by=['Frequency'], ascending=False)\n",
    "dfVowel"
   ]
  },
  {
   "cell_type": "code",
   "execution_count": 34,
   "id": "20495a63",
   "metadata": {},
   "outputs": [
    {
     "data": {
      "image/png": "[encoded data removed]",
      "text/plain": [
       "<Figure size 1080x504 with 1 Axes>"
      ]
     },
     "metadata": {
      "needs_background": "light"
     },
     "output_type": "display_data"
    }
   ],
   "source": [
    "xv = vowels\n",
    "yv = freqVowels\n",
    "plt.figure(figsize=[15, 7])\n",
    "\n",
    "plt.bar(xv, yv, edgecolor='blueviolet', color='deeppink')\n",
    "plt.title(\"Vowel Frequencies within Wordle's Possible Words Dataset\", fontsize=20)\n",
    "plt.xlabel('Vowels', fontsize=15)\n",
    "plt.ylabel('Frequencies', fontsize=15)\n",
    "plt.show()"
   ]
  },
  {
   "cell_type": "markdown",
   "id": "3195d3bb",
   "metadata": {},
   "source": [
    "Very interesting... I expected there to be more of each other vowel"
   ]
  },
  {
   "cell_type": "markdown",
   "id": "768cdbc8",
   "metadata": {},
   "source": [
    "###### Letter Frequency Strategy"
   ]
  },
  {
   "cell_type": "code",
   "execution_count": 4,
   "id": "603feb86",
   "metadata": {},
   "outputs": [
    {
     "data": {
      "text/html": [
       "<div>\n",
       "<style scoped>\n",
       "    .dataframe tbody tr th:only-of-type {\n",
       "        vertical-align: middle;\n",
       "    }\n",
       "\n",
       "    .dataframe tbody tr th {\n",
       "        vertical-align: top;\n",
       "    }\n",
       "\n",
       "    .dataframe thead th {\n",
       "        text-align: right;\n",
       "    }\n",
       "</style>\n",
       "<table border=\"1\" class=\"dataframe\">\n",
       "  <thead>\n",
       "    <tr style=\"text-align: right;\">\n",
       "      <th></th>\n",
       "      <th>Letter</th>\n",
       "      <th>Frequency</th>\n",
       "    </tr>\n",
       "  </thead>\n",
       "  <tbody>\n",
       "    <tr>\n",
       "      <th>18</th>\n",
       "      <td>s</td>\n",
       "      <td>6665</td>\n",
       "    </tr>\n",
       "    <tr>\n",
       "      <th>4</th>\n",
       "      <td>e</td>\n",
       "      <td>6662</td>\n",
       "    </tr>\n",
       "    <tr>\n",
       "      <th>0</th>\n",
       "      <td>a</td>\n",
       "      <td>5990</td>\n",
       "    </tr>\n",
       "    <tr>\n",
       "      <th>14</th>\n",
       "      <td>o</td>\n",
       "      <td>4438</td>\n",
       "    </tr>\n",
       "    <tr>\n",
       "      <th>17</th>\n",
       "      <td>r</td>\n",
       "      <td>4158</td>\n",
       "    </tr>\n",
       "    <tr>\n",
       "      <th>8</th>\n",
       "      <td>i</td>\n",
       "      <td>3759</td>\n",
       "    </tr>\n",
       "    <tr>\n",
       "      <th>11</th>\n",
       "      <td>l</td>\n",
       "      <td>3371</td>\n",
       "    </tr>\n",
       "    <tr>\n",
       "      <th>19</th>\n",
       "      <td>t</td>\n",
       "      <td>3295</td>\n",
       "    </tr>\n",
       "    <tr>\n",
       "      <th>13</th>\n",
       "      <td>n</td>\n",
       "      <td>2952</td>\n",
       "    </tr>\n",
       "    <tr>\n",
       "      <th>20</th>\n",
       "      <td>u</td>\n",
       "      <td>2511</td>\n",
       "    </tr>\n",
       "    <tr>\n",
       "      <th>3</th>\n",
       "      <td>d</td>\n",
       "      <td>2453</td>\n",
       "    </tr>\n",
       "    <tr>\n",
       "      <th>24</th>\n",
       "      <td>y</td>\n",
       "      <td>2074</td>\n",
       "    </tr>\n",
       "    <tr>\n",
       "      <th>2</th>\n",
       "      <td>c</td>\n",
       "      <td>2028</td>\n",
       "    </tr>\n",
       "    <tr>\n",
       "      <th>15</th>\n",
       "      <td>p</td>\n",
       "      <td>2019</td>\n",
       "    </tr>\n",
       "    <tr>\n",
       "      <th>12</th>\n",
       "      <td>m</td>\n",
       "      <td>1976</td>\n",
       "    </tr>\n",
       "    <tr>\n",
       "      <th>7</th>\n",
       "      <td>h</td>\n",
       "      <td>1760</td>\n",
       "    </tr>\n",
       "    <tr>\n",
       "      <th>6</th>\n",
       "      <td>g</td>\n",
       "      <td>1644</td>\n",
       "    </tr>\n",
       "    <tr>\n",
       "      <th>1</th>\n",
       "      <td>b</td>\n",
       "      <td>1627</td>\n",
       "    </tr>\n",
       "    <tr>\n",
       "      <th>10</th>\n",
       "      <td>k</td>\n",
       "      <td>1505</td>\n",
       "    </tr>\n",
       "    <tr>\n",
       "      <th>5</th>\n",
       "      <td>f</td>\n",
       "      <td>1115</td>\n",
       "    </tr>\n",
       "    <tr>\n",
       "      <th>22</th>\n",
       "      <td>w</td>\n",
       "      <td>1039</td>\n",
       "    </tr>\n",
       "    <tr>\n",
       "      <th>21</th>\n",
       "      <td>v</td>\n",
       "      <td>694</td>\n",
       "    </tr>\n",
       "    <tr>\n",
       "      <th>25</th>\n",
       "      <td>z</td>\n",
       "      <td>434</td>\n",
       "    </tr>\n",
       "    <tr>\n",
       "      <th>9</th>\n",
       "      <td>j</td>\n",
       "      <td>291</td>\n",
       "    </tr>\n",
       "    <tr>\n",
       "      <th>23</th>\n",
       "      <td>x</td>\n",
       "      <td>288</td>\n",
       "    </tr>\n",
       "    <tr>\n",
       "      <th>16</th>\n",
       "      <td>q</td>\n",
       "      <td>112</td>\n",
       "    </tr>\n",
       "  </tbody>\n",
       "</table>\n",
       "</div>"
      ],
      "text/plain": [
       "   Letter  Frequency\n",
       "18      s       6665\n",
       "4       e       6662\n",
       "0       a       5990\n",
       "14      o       4438\n",
       "17      r       4158\n",
       "8       i       3759\n",
       "11      l       3371\n",
       "19      t       3295\n",
       "13      n       2952\n",
       "20      u       2511\n",
       "3       d       2453\n",
       "24      y       2074\n",
       "2       c       2028\n",
       "15      p       2019\n",
       "12      m       1976\n",
       "7       h       1760\n",
       "6       g       1644\n",
       "1       b       1627\n",
       "10      k       1505\n",
       "5       f       1115\n",
       "22      w       1039\n",
       "21      v        694\n",
       "25      z        434\n",
       "9       j        291\n",
       "23      x        288\n",
       "16      q        112"
      ]
     },
     "execution_count": 4,
     "metadata": {},
     "output_type": "execute_result"
    }
   ],
   "source": [
    "alpha = ['a','b','c','d','e','f','g','h','i','j','k','l','m','n','o','p','q','r','s','t','u','v','w','x','y','z']\n",
    "freq = [OneString.count(alpha[i]) for i in range(len(alpha))]\n",
    "\n",
    "dictLetter = {'Letter': alpha, 'Frequency': freq}  \n",
    "dfLetter = pd.DataFrame(dictLetter)\n",
    "dfLetter = dfLetter.sort_values(by=['Frequency'], ascending=False)\n",
    "dfLetter"
   ]
  },
  {
   "cell_type": "code",
   "execution_count": 25,
   "id": "ad11bd62",
   "metadata": {},
   "outputs": [
    {
     "data": {
      "image/png": "[encoded data removed]",
      "text/plain": [
       "<Figure size 1080x504 with 1 Axes>"
      ]
     },
     "metadata": {
      "needs_background": "light"
     },
     "output_type": "display_data"
    }
   ],
   "source": [
    "x = alpha\n",
    "y = freq\n",
    "\n",
    "plt.figure(figsize=[15, 7])\n",
    "\n",
    "plt.bar(x, y, edgecolor='blueviolet', color='r')\n",
    "plt.title(\"Letter Frequencies within Wordle's Possible Words Dataset\", fontsize=20)\n",
    "plt.xlabel('Letters', fontsize=15)\n",
    "plt.ylabel('Frequencies', fontsize=15)\n",
    "plt.show()"
   ]
  },
  {
   "cell_type": "markdown",
   "id": "38d9089a",
   "metadata": {},
   "source": [
    "##### Backtesting Strategies"
   ]
  },
  {
   "cell_type": "code",
   "execution_count": 7,
   "id": "6e091d17",
   "metadata": {},
   "outputs": [],
   "source": [
    "def backtest(starter, words):\n",
    "    \n",
    "    total = len(words)\n",
    "    guess = starter\n",
    "    removed = 0\n",
    "\n",
    "    for word in words:\n",
    "        for i in range(5):\n",
    "            if guess[i] in word:\n",
    "                removed += 1\n",
    "                break\n",
    "    \n",
    "    pct = round(100 - ((total - removed)/total*100), 2)\n",
    "    return guess, (\"{}%\".format(pct))"
   ]
  },
  {
   "cell_type": "code",
   "execution_count": 8,
   "id": "33636607",
   "metadata": {},
   "outputs": [
    {
     "data": {
      "text/plain": [
       "('adieu', '92.18%')"
      ]
     },
     "execution_count": 8,
     "metadata": {},
     "output_type": "execute_result"
    }
   ],
   "source": [
    "backtest(starter=\"adieu\", words=words)"
   ]
  },
  {
   "cell_type": "code",
   "execution_count": 9,
   "id": "fa2fb2b2",
   "metadata": {},
   "outputs": [
    {
     "data": {
      "text/plain": [
       "('soare', '95.55%')"
      ]
     },
     "execution_count": 9,
     "metadata": {},
     "output_type": "execute_result"
    }
   ],
   "source": [
    "backtest(starter=\"soare\", words=words)"
   ]
  },
  {
   "cell_type": "code",
   "execution_count": 10,
   "id": "689ca254",
   "metadata": {},
   "outputs": [
    {
     "data": {
      "text/plain": [
       "('slate', '93.33%')"
      ]
     },
     "execution_count": 10,
     "metadata": {},
     "output_type": "execute_result"
    }
   ],
   "source": [
    "backtest(starter=\"slate\", words=words)"
   ]
  },
  {
   "cell_type": "markdown",
   "id": "382558b0",
   "metadata": {},
   "source": [
    "###### Brute Force Strategy"
   ]
  },
  {
   "cell_type": "code",
   "execution_count": 11,
   "id": "ff5c89bf",
   "metadata": {},
   "outputs": [
    {
     "data": {
      "text/html": [
       "<div>\n",
       "<style scoped>\n",
       "    .dataframe tbody tr th:only-of-type {\n",
       "        vertical-align: middle;\n",
       "    }\n",
       "\n",
       "    .dataframe tbody tr th {\n",
       "        vertical-align: top;\n",
       "    }\n",
       "\n",
       "    .dataframe thead th {\n",
       "        text-align: right;\n",
       "    }\n",
       "</style>\n",
       "<table border=\"1\" class=\"dataframe\">\n",
       "  <thead>\n",
       "    <tr style=\"text-align: right;\">\n",
       "      <th></th>\n",
       "      <th>Word</th>\n",
       "      <th>Score</th>\n",
       "    </tr>\n",
       "  </thead>\n",
       "  <tbody>\n",
       "    <tr>\n",
       "      <th>11448</th>\n",
       "      <td>toeas</td>\n",
       "      <td>95.72%</td>\n",
       "    </tr>\n",
       "    <tr>\n",
       "      <th>10741</th>\n",
       "      <td>stoae</td>\n",
       "      <td>95.72%</td>\n",
       "    </tr>\n",
       "    <tr>\n",
       "      <th>317</th>\n",
       "      <td>aloes</td>\n",
       "      <td>95.68%</td>\n",
       "    </tr>\n",
       "    <tr>\n",
       "      <th>138</th>\n",
       "      <td>aeons</td>\n",
       "      <td>95.64%</td>\n",
       "    </tr>\n",
       "    <tr>\n",
       "      <th>549</th>\n",
       "      <td>arose</td>\n",
       "      <td>95.55%</td>\n",
       "    </tr>\n",
       "    <tr>\n",
       "      <th>...</th>\n",
       "      <td>...</td>\n",
       "      <td>...</td>\n",
       "    </tr>\n",
       "    <tr>\n",
       "      <th>4147</th>\n",
       "      <td>fuzzy</td>\n",
       "      <td>39.29%</td>\n",
       "    </tr>\n",
       "    <tr>\n",
       "      <th>5276</th>\n",
       "      <td>hyphy</td>\n",
       "      <td>38.06%</td>\n",
       "    </tr>\n",
       "    <tr>\n",
       "      <th>12683</th>\n",
       "      <td>xylyl</td>\n",
       "      <td>37.66%</td>\n",
       "    </tr>\n",
       "    <tr>\n",
       "      <th>4097</th>\n",
       "      <td>fuffy</td>\n",
       "      <td>37.11%</td>\n",
       "    </tr>\n",
       "    <tr>\n",
       "      <th>4781</th>\n",
       "      <td>gyppy</td>\n",
       "      <td>36.87%</td>\n",
       "    </tr>\n",
       "  </tbody>\n",
       "</table>\n",
       "<p>12972 rows × 2 columns</p>\n",
       "</div>"
      ],
      "text/plain": [
       "        Word   Score\n",
       "11448  toeas  95.72%\n",
       "10741  stoae  95.72%\n",
       "317    aloes  95.68%\n",
       "138    aeons  95.64%\n",
       "549    arose  95.55%\n",
       "...      ...     ...\n",
       "4147   fuzzy  39.29%\n",
       "5276   hyphy  38.06%\n",
       "12683  xylyl  37.66%\n",
       "4097   fuffy  37.11%\n",
       "4781   gyppy  36.87%\n",
       "\n",
       "[12972 rows x 2 columns]"
      ]
     },
     "execution_count": 11,
     "metadata": {},
     "output_type": "execute_result"
    }
   ],
   "source": [
    "data = []\n",
    "\n",
    "for i in words:\n",
    "    hold = backtest(starter=i, words=words)\n",
    "    data.append(hold)\n",
    "\n",
    "bruteForce = pd.DataFrame(data, columns=['Word','Score'])\n",
    "bruteForce = bruteForce.sort_values(by=['Score'], ascending=False)\n",
    "bruteForce"
   ]
  },
  {
   "cell_type": "code",
   "execution_count": 12,
   "id": "5c1c6ca8",
   "metadata": {},
   "outputs": [
    {
     "name": "stdout",
     "output_type": "stream",
     "text": [
      "['toeas', 'stoae', 'aloes', 'aeons', 'arose', 'aeros', 'soare', 'reais', 'arise', 'raise']\n"
     ]
    }
   ],
   "source": [
    "best = bruteForce.Word.tolist()\n",
    "print(best[0:10])"
   ]
  },
  {
   "cell_type": "markdown",
   "id": "d92a5d13",
   "metadata": {},
   "source": [
    "Funny that toeas is number one, however, it does have vowels, t, s\n",
    "aeons, arose, arise, raise -- only ones that we actually use ++ AES visible in all\n"
   ]
  },
  {
   "cell_type": "code",
   "execution_count": null,
   "id": "d7b04ccc",
   "metadata": {},
   "outputs": [],
   "source": []
  }
 ],
 "metadata": {
  "kernelspec": {
   "display_name": "Python 3 (ipykernel)",
   "language": "python",
   "name": "python3"
  },
  "language_info": {
   "codemirror_mode": {
    "name": "ipython",
    "version": 3
   },
   "file_extension": ".py",
   "mimetype": "text/x-python",
   "name": "python",
   "nbconvert_exporter": "python",
   "pygments_lexer": "ipython3",
   "version": "3.10.5"
  }
 },
 "nbformat": 4,
 "nbformat_minor": 5
}
